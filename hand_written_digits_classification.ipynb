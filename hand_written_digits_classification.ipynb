{
 "cells": [
  {
   "cell_type": "markdown",
   "id": "bcd2fb1f",
   "metadata": {},
   "source": [
    "<h1>MINI PROJET : Classification des chiffres ecrit a la main</h1>"
   ]
  },
  {
   "cell_type": "markdown",
   "id": "5a9ac862",
   "metadata": {},
   "source": [
    "<table style=\"border : 1px solid black; text-align : center\">\n",
    "    <tr style=\"border : 1px solid black\">\n",
    "        <td style=\"border : 1px solid black\">\n",
    "            <h3>Travail est realise par :</h3>\n",
    "            <ul style=\"text-align : left;\">\n",
    "                <li>ABOUZI Anass</li>\n",
    "                <li>CHAHBOUNE Achraf</li>\n",
    "                <li>AMZIL Ammar</li>\n",
    "                <li>CHAFIK Anas</li>\n",
    "            </ul>\n",
    "        </td>\n",
    "        <td style=\"border : 1px solid black\"><h3>Precision moyenne atteinte : 71.95%</h3></td>\n",
    "        <td style=\"border : 1px solid black\"><h3>Temps d'execution moyen du note book : 43.25 s</h3></td>\n",
    "    </tr>\n",
    "    \n",
    "    \n",
    "</table>"
   ]
  },
  {
   "cell_type": "markdown",
   "id": "feaa3d56",
   "metadata": {},
   "source": [
    "<h2>Description du projet :</h2>"
   ]
  },
  {
   "cell_type": "markdown",
   "id": "76a399ba",
   "metadata": {},
   "source": [
    "<h3>La classification dans le domaine d'informatique est l'ensemble des techniques qui permet a une machine de categorizer des images a partir de leurs contenus, cela necessite des representations precise et robuste du contenu des images. Aujourd'hui, plusieurs technique de classification existe sois par l'utilisation des reseaux neurons ou les techniques de \"clustering\" ...ect, dans ce projet on se mene a la classification des images des chiffres ecrits a la main en utilisant des descripteurs d'orientation de region et la methode \"KNN\", notre objectif est d'entrainer un model descriptive precis a 60% ou plus.</h3> "
   ]
  },
  {
   "cell_type": "markdown",
   "id": "4f2a6079",
   "metadata": {},
   "source": [
    "<h2>Importation des librairies.</h2"
   ]
  },
  {
   "cell_type": "code",
   "execution_count": 1,
   "id": "23e84a47",
   "metadata": {},
   "outputs": [],
   "source": [
    "import numpy as np\n",
    "from matplotlib import pyplot as plt\n",
    "import utility_functions\n",
    "import cv2 as cv\n",
    "from skimage import ( transform, feature)"
   ]
  },
  {
   "cell_type": "markdown",
   "id": "2a898dc6",
   "metadata": {},
   "source": [
    "<h2>Recuperation de la base de donnes.</h2>"
   ]
  },
  {
   "cell_type": "markdown",
   "id": "2e80788e",
   "metadata": {},
   "source": [
    "<h3>On va utiliser une sous-ensemble de l'ensemble celebre \"Mnist\" qui va contenir 800 images d'entrainement et 200 images de teste (la distribution des classes doit etre equiprobable), chaque image est de taille 28x28 et contient un chiffre ecrit a la main avec une label indiquant le chiffre correspondant.</h3>"
   ]
  },
  {
   "cell_type": "code",
   "execution_count": 2,
   "id": "34234dfa",
   "metadata": {},
   "outputs": [
    {
     "name": "stdout",
     "output_type": "stream",
     "text": [
      "(60000, 785)\n",
      "(10000, 785)\n"
     ]
    }
   ],
   "source": [
    "#chargement des ensembles originales\n",
    "full_training_set = np.genfromtxt(\"Mnist_data_set/mnist_train.csv\", dtype=np.uint16, delimiter=\",\", skip_header=1)\n",
    "full_test_set = np.genfromtxt(\"Mnist_data_set/mnist_test.csv\", dtype=np.uint16, delimiter=\",\", skip_header=1)\n",
    "print(full_training_set.shape)\n",
    "print(full_test_set.shape)"
   ]
  },
  {
   "cell_type": "markdown",
   "id": "c338b790",
   "metadata": {},
   "source": [
    "<h2>Extraction de 80 echatillions de chaque classe pour l'ensemble d'entrainement et 20 echantillions de chaque classe pour l'ensemble de teste pour avoir des ensembles equilibre.</h2>"
   ]
  },
  {
   "cell_type": "code",
   "execution_count": 3,
   "id": "9d323e5e",
   "metadata": {},
   "outputs": [],
   "source": [
    "def get_sub_set(full_set, N) :\n",
    "    sub_set = []\n",
    "    \n",
    "    for i in range(10) :\n",
    "        size = 0\n",
    "        k = 0\n",
    "        #pour chaque chiffre i on va empiler N echantillon de i au sous-ensemble\n",
    "        while size < N :\n",
    "            if full_set[k, 0] == i :\n",
    "                sub_set.append(full_set[k])\n",
    "                size += 1\n",
    "            k += 1\n",
    "    return np.array(sub_set)"
   ]
  },
  {
   "cell_type": "markdown",
   "id": "2c00992b",
   "metadata": {},
   "source": [
    "<h2>Creation des bases donnes utilise pour l'entrainement et le test de notre model.<h2>"
   ]
  },
  {
   "cell_type": "code",
   "execution_count": 4,
   "id": "472535a8",
   "metadata": {},
   "outputs": [],
   "source": [
    "training_set = get_sub_set(full_training_set, 80)\n",
    "test_set = get_sub_set(full_test_set, 20)"
   ]
  },
  {
   "cell_type": "code",
   "execution_count": 5,
   "id": "6753f7ae",
   "metadata": {},
   "outputs": [
    {
     "name": "stdout",
     "output_type": "stream",
     "text": [
      "(800, 785)\n",
      "(200, 785)\n"
     ]
    }
   ],
   "source": [
    "print(training_set.shape)\n",
    "print(test_set.shape)"
   ]
  },
  {
   "cell_type": "markdown",
   "id": "d937c2ba",
   "metadata": {},
   "source": [
    "<h2>Exemples des elements sur les quels on va agir.</h2>"
   ]
  },
  {
   "cell_type": "code",
   "execution_count": 6,
   "id": "70227284",
   "metadata": {},
   "outputs": [
    {
     "data": {
      "image/png": "[encoded data removed]",
      "text/plain": [
       "<Figure size 720x720 with 5 Axes>"
      ]
     },
     "metadata": {
      "needs_background": "light"
     },
     "output_type": "display_data"
    },
    {
     "data": {
      "image/png": "[encoded data removed]",
      "text/plain": [
       "<Figure size 720x720 with 5 Axes>"
      ]
     },
     "metadata": {
      "needs_background": "light"
     },
     "output_type": "display_data"
    }
   ],
   "source": [
    "plt.figure(figsize=[10.0, 10.0])\n",
    "for i in range(5) :\n",
    "    plt.subplot(1,5,i + 1)\n",
    "    plt.imshow(training_set[i * 80, 1:].reshape((28, 28)), cmap=\"gray\")\n",
    "    plt.title(training_set[i * 80, 0])\n",
    "    plt.axis(\"off\")\n",
    "plt.show()\n",
    "plt.figure(figsize=[10.0, 10.0])\n",
    "for j in range(5) :\n",
    "    plt.subplot(1,5,j + 1)\n",
    "    plt.imshow(test_set[100 + j * 20, 1:].reshape((28, 28)), cmap=\"gray\")\n",
    "    plt.title(test_set[100 + j * 20, 0])\n",
    "    plt.axis(\"off\")\n",
    "plt.show()"
   ]
  },
  {
   "cell_type": "markdown",
   "id": "cb9a65e6",
   "metadata": {},
   "source": [
    "<h2>Analyse des elements de la base de donnees.</h2>"
   ]
  },
  {
   "cell_type": "markdown",
   "id": "99621f63",
   "metadata": {},
   "source": [
    "<h3>Notre base de donnes contient des images en niveau de gris de chiffres ecrit a la main, on peut tout de suite eliminer les descripteurs de couleurs et de textures puisqu'il n'apporte aucune information sur le chiffre, donc pour pouvoir decrire le contenu de chaque image on doit utiliser un descripteur de forme, regions ou un melange entre les deux. Le descripteur qu'on va utiliser est <em><b>L'HISTOGRAMME DES GRADIENTS ORIENTE</b></em> aussi appele HOG. Le HOG  est une technique de détection d'objets populaire dans le domaine de la vision par ordinateur. Il a été introduit pour la première fois par Dalal et Triggs en 2005. Cette technique consiste à extraire des caractéristiques d'une image en se concentrant sur la distribution de l'orientation des gradients de couleur dans l'image, mais avant d'implimanter ce descripteur, on doit tout d'abord pretraiter nos donnees pour repondre a deux contraintes :</h3>\n",
    "<ol>\n",
    "    <li><h3>La taille des images n'est pas optimale pour l'utilisation de cette methode, la taille recommande dans la literature est 64x128, mais dans notre cas on se restreit a 32x64.</h3></li>\n",
    "    <li><h3>L'inclinaison de l'ecriture de differentes personnes, chaque personne va ecrire le chiffre '1' avec une inclinaison differente ce qui va rendre beaucoup plus difficile la comparaison par orientation, donc on doit detecter et correcter l'inclinaision de chaque image avant de le decrire.</h3></li>\n",
    "</ol>"
   ]
  },
  {
   "cell_type": "markdown",
   "id": "384f2048",
   "metadata": {},
   "source": [
    "<h2>Detection et correction d'inclinaison :</h2>\n",
    "<h3>L'idee c'est l'utilisation des moments centrale de l'image pour detecter l'inclinaison et les utiliser pour creer une transformation inverse de l'inclinaison detecter.</h3>\n",
    "<h3>Le moment centrale calculer par la formule : <h3>\n",
    "<img src=\"markup_images\\moment_central.png\" />"
   ]
  },
  {
   "cell_type": "markdown",
   "id": "38dc51d5",
   "metadata": {},
   "source": [
    "<h2>voici le code pour correction</h2>"
   ]
  },
  {
   "cell_type": "code",
   "execution_count": 7,
   "id": "05abff9a",
   "metadata": {},
   "outputs": [],
   "source": [
    "def deskew(img):\n",
    "    taille = img.shape[0]\n",
    "    #fonction predefinie de opencv qui retourne un dictionaire contenant les moments spacials, centrales et centrales normalize\n",
    "    m = cv.moments(img)\n",
    "    if abs(m['mu02']) < 1e-2:\n",
    "    # pas d'inclinaison\n",
    "        return img.copy()\n",
    "    # Calcule de l'inclinaison en fonction des momemts centrales.\n",
    "    skew = m['mu11']/m['mu02']\n",
    "    # Calcule de la transformation affine pour la correction de l'inclinaison.\n",
    "    M = np.float32([[1, skew, -0.5*taille*skew], [0, 1, 0]])\n",
    "    # Application de la transformation affine\n",
    "    img = cv.warpAffine(img, M, (taille, taille), flags=cv.WARP_INVERSE_MAP | cv.INTER_LINEAR)\n",
    "    return img"
   ]
  },
  {
   "cell_type": "markdown",
   "id": "857b6b6c",
   "metadata": {},
   "source": [
    "<h2>Visualization de la correction d'inclinaison</h2>"
   ]
  },
  {
   "cell_type": "code",
   "execution_count": 8,
   "id": "31f5107c",
   "metadata": {},
   "outputs": [],
   "source": [
    "img = np.array(training_set[84][1:].reshape((28, 28)), dtype=np.float32)"
   ]
  },
  {
   "cell_type": "code",
   "execution_count": 9,
   "id": "f2a8d5e5",
   "metadata": {},
   "outputs": [
    {
     "data": {
      "text/plain": [
       "<matplotlib.image.AxesImage at 0x20a813c8af0>"
      ]
     },
     "execution_count": 9,
     "metadata": {},
     "output_type": "execute_result"
    },
    {
     "data": {
      "image/png": "[encoded data removed]",
      "text/plain": [
       "<Figure size 432x288 with 2 Axes>"
      ]
     },
     "metadata": {
      "needs_background": "light"
     },
     "output_type": "display_data"
    }
   ],
   "source": [
    "corrected_img = deskew(img)\n",
    "plt.subplot(1, 2, 1)\n",
    "plt.title(\"image originale.\")\n",
    "plt.imshow(img, cmap=\"gray\")\n",
    "plt.subplot(1, 2, 2)\n",
    "plt.title(\"image correcte.\")\n",
    "plt.imshow(corrected_img, cmap=\"gray\")"
   ]
  },
  {
   "cell_type": "markdown",
   "id": "f4068437",
   "metadata": {},
   "source": [
    "<h2>Redimensionement des images.</h2>"
   ]
  },
  {
   "cell_type": "code",
   "execution_count": 10,
   "id": "b43d53b7",
   "metadata": {},
   "outputs": [],
   "source": [
    "resized_img = transform.resize(corrected_img, (64, 32))"
   ]
  },
  {
   "cell_type": "code",
   "execution_count": 11,
   "id": "51cc1a27",
   "metadata": {},
   "outputs": [
    {
     "data": {
      "text/plain": [
       "<matplotlib.image.AxesImage at 0x20a81352d30>"
      ]
     },
     "execution_count": 11,
     "metadata": {},
     "output_type": "execute_result"
    },
    {
     "data": {
      "image/png": "[encoded data removed]",
      "text/plain": [
       "<Figure size 432x288 with 1 Axes>"
      ]
     },
     "metadata": {
      "needs_background": "light"
     },
     "output_type": "display_data"
    }
   ],
   "source": [
    "plt.imshow(resized_img, cmap=\"gray\")"
   ]
  },
  {
   "cell_type": "markdown",
   "id": "43318b00",
   "metadata": {},
   "source": [
    "<h2>Histogramme des gradients oriente.</h2>"
   ]
  },
  {
   "cell_type": "markdown",
   "id": "786bfac3",
   "metadata": {},
   "source": [
    "<h3>Le HOG se base sur le fait que les bords d'un objet dans une image ont souvent une orientation prédominante. En utilisant l'orientation des gradients de l'image, le HOG peut détecter la forme d'un objet. Pour faire cela, l'algorithme effectue les étapes suivantes :</h3>\n",
    "<ol>\n",
    "    <li><h3>Calcul des gradients : Pour chaque pixel de l'image en niveaux de gris, nous calculons le gradient sur l'axe horizontale (X) et verticale (Y) en utilisant les filtres de sobels : <img src=\"markup_images\\filtres_sobel.png\"/> puis on calcule la magnitude et l'orientation des gradients en utilisant les formules suivantes : <img src=\"markup_images\\magnitude_orientation.png\"/></h3></li>\n",
    "    <li><h3>Division de l'image en cellules : L'image est divisée en petites cellules, généralement de taille 8x8 ou 16x16.</h3></li>\n",
    "    <li><h3>Calcul des histogrammes d'orientation pour chaque cellule : Pour chaque cellule, nous créons un histogramme d'orientation des gradients. Nous discrétisons généralement l'orientation en 9 orientations (de 0 a 160 avec un pas de 20), et pour chaque pixel de la cellule on distribue la magnitude du gradient sur les deux orientations voisine a l'orientation de la pixel selon la proximité de l'orientation a chacun des voisins. <img src=\"markup_images\\magnitude_distribution.png\"/></h3></li>\n",
    "    <li><h3>Division des cellules en blocs : Les cellules sont regroupées en blocs plus grands, généralement de taille 2x2 à 4x4, </h3></li>\n",
    "    <li><h3>Calcul des histogrammes de blocs : Pour chaque bloc, nous additionnons les histogrammes d'orientation des cellules qui le composent pour obtenir un histogramme de bloc unique et on le normalise (dans notre programme on utilise la normalisation L1-sqrt).</h3></li>\n",
    "</ol>\n",
    "<h3>En fin de compte, nous obtenons une image representant l'orientation de l'image.</h3>"
   ]
  },
  {
   "cell_type": "code",
   "execution_count": 12,
   "id": "4d180d0a",
   "metadata": {},
   "outputs": [
    {
     "name": "stdout",
     "output_type": "stream",
     "text": [
      "(756,)\n"
     ]
    },
    {
     "data": {
      "text/plain": [
       "<matplotlib.image.AxesImage at 0x20a811e2970>"
      ]
     },
     "execution_count": 12,
     "metadata": {},
     "output_type": "execute_result"
    },
    {
     "data": {
      "image/png": "[encoded data removed]",
      "text/plain": [
       "<Figure size 432x288 with 1 Axes>"
      ]
     },
     "metadata": {
      "needs_background": "light"
     },
     "output_type": "display_data"
    }
   ],
   "source": [
    "fd, hog_img = feature.hog(resized_img, orientations=9, pixels_per_cell=(8, 8), cells_per_block=(2, 2), visualize=True, block_norm='L1-sqrt')\n",
    "print(fd.shape)\n",
    "plt.imshow(hog_img, cmap=\"gray\")"
   ]
  },
  {
   "cell_type": "markdown",
   "id": "36e005c8",
   "metadata": {},
   "source": [
    "<h2>Extraction des descripteurs</h2>"
   ]
  },
  {
   "cell_type": "code",
   "execution_count": 13,
   "id": "57c8dcd9",
   "metadata": {},
   "outputs": [],
   "source": [
    "def get_descripteur(img_set) :\n",
    "    l = img_set.shape[0]\n",
    "    mat_desc = np.zeros((l, 756))\n",
    "    for i in range(l) :\n",
    "        corrected_img = deskew(img_set[i][1:].reshape((28, 28)))\n",
    "        resized_img = transform.resize(corrected_img, (64, 32))\n",
    "        fd = feature.hog(resized_img, orientations=9, pixels_per_cell=(8, 8), cells_per_block=(2, 2), block_norm='L1-sqrt')\n",
    "        mat_desc[i] = fd\n",
    "    return mat_desc\n"
   ]
  },
  {
   "cell_type": "markdown",
   "id": "b83aad82",
   "metadata": {},
   "source": [
    "<h2>Descripteurs d'entrainement et de teste.</h2>"
   ]
  },
  {
   "cell_type": "code",
   "execution_count": 14,
   "id": "3c7ce834",
   "metadata": {},
   "outputs": [],
   "source": [
    "training_desc = get_descripteur(training_set)\n",
    "test_desc = get_descripteur(test_set)"
   ]
  },
  {
   "cell_type": "code",
   "execution_count": 15,
   "id": "cc9b8537",
   "metadata": {},
   "outputs": [
    {
     "name": "stdout",
     "output_type": "stream",
     "text": [
      "(800, 756)\n",
      "(200, 756)\n"
     ]
    }
   ],
   "source": [
    "print(training_desc.shape)\n",
    "print(test_desc.shape)"
   ]
  },
  {
   "cell_type": "markdown",
   "id": "3b75394b",
   "metadata": {},
   "source": [
    "<h2>Evaluation : (les fonctions sont predefinie dans le tp)</h2>"
   ]
  },
  {
   "cell_type": "markdown",
   "id": "97d28877",
   "metadata": {},
   "source": [
    "<h3>Matrice de distance.</h3>"
   ]
  },
  {
   "cell_type": "code",
   "execution_count": 16,
   "id": "1abc5653",
   "metadata": {},
   "outputs": [],
   "source": [
    "distance_mat = utility_functions.get_distance_mat(training_desc, test_desc)"
   ]
  },
  {
   "cell_type": "code",
   "execution_count": 17,
   "id": "9ed66379",
   "metadata": {},
   "outputs": [
    {
     "name": "stdout",
     "output_type": "stream",
     "text": [
      "(800, 200)\n"
     ]
    }
   ],
   "source": [
    "print(distance_mat.shape)"
   ]
  },
  {
   "cell_type": "code",
   "execution_count": 18,
   "id": "321b7f32",
   "metadata": {},
   "outputs": [
    {
     "name": "stdout",
     "output_type": "stream",
     "text": [
      "[[1.74004569 2.02508812 2.22881343 ... 4.08258421 3.62703196 3.86764997]\n",
      " [2.30053742 2.77487602 2.55277151 ... 4.06233787 3.51322103 3.83238334]\n",
      " [2.93310756 2.83432153 2.52241101 ... 3.92452505 3.76851334 3.76563753]\n",
      " ...\n",
      " [4.13370533 4.25034021 3.77066971 ... 1.93795027 3.30262173 3.0040477 ]\n",
      " [4.38229683 4.44348276 3.97833951 ... 2.05751583 3.39125223 2.80828493]\n",
      " [4.98826988 4.96495879 4.68009839 ... 3.01261323 3.80075875 3.84560996]]\n"
     ]
    }
   ],
   "source": [
    "print(distance_mat)"
   ]
  },
  {
   "cell_type": "markdown",
   "id": "b57c1f92",
   "metadata": {},
   "source": [
    "<h3>Matrice d'index.</h3>"
   ]
  },
  {
   "cell_type": "code",
   "execution_count": 19,
   "id": "11c42e0e",
   "metadata": {},
   "outputs": [],
   "source": [
    "index_mat = utility_functions.trier_distance(distance_mat)"
   ]
  },
  {
   "cell_type": "code",
   "execution_count": 20,
   "id": "77443690",
   "metadata": {},
   "outputs": [
    {
     "name": "stdout",
     "output_type": "stream",
     "text": [
      "(800, 200)\n"
     ]
    }
   ],
   "source": [
    "print(index_mat.shape)"
   ]
  },
  {
   "cell_type": "code",
   "execution_count": 21,
   "id": "c4a4bd9f",
   "metadata": {},
   "outputs": [
    {
     "name": "stdout",
     "output_type": "stream",
     "text": [
      "[[ 15.   0.  11. ...  98. 140. 158.]\n",
      " [ 11.   0.   8. ... 141. 158. 140.]\n",
      " [  5.  10.  17. ... 146.  98. 148.]\n",
      " ...\n",
      " [197. 193. 184. ...  43. 136.  85.]\n",
      " [197. 190. 183. ... 134.  85. 136.]\n",
      " [185. 192. 193. ... 137.  43. 136.]]\n"
     ]
    }
   ],
   "source": [
    "print(index_mat)"
   ]
  },
  {
   "cell_type": "markdown",
   "id": "49abc686",
   "metadata": {},
   "source": [
    "<h3>Matrice binaire.</h3>"
   ]
  },
  {
   "cell_type": "code",
   "execution_count": 22,
   "id": "26fc0205",
   "metadata": {},
   "outputs": [],
   "source": [
    "binary_mat = utility_functions.get_binary_mat(index_mat, 80, 20)"
   ]
  },
  {
   "cell_type": "code",
   "execution_count": 23,
   "id": "2cdf4a97",
   "metadata": {},
   "outputs": [
    {
     "name": "stdout",
     "output_type": "stream",
     "text": [
      "(800, 200)\n"
     ]
    }
   ],
   "source": [
    "print(binary_mat.shape)"
   ]
  },
  {
   "cell_type": "code",
   "execution_count": 24,
   "id": "bebe3ce4",
   "metadata": {},
   "outputs": [
    {
     "name": "stdout",
     "output_type": "stream",
     "text": [
      "[[1. 1. 1. ... 0. 0. 0.]\n",
      " [1. 1. 1. ... 0. 0. 0.]\n",
      " [1. 1. 1. ... 0. 0. 0.]\n",
      " ...\n",
      " [1. 1. 1. ... 0. 0. 0.]\n",
      " [1. 1. 1. ... 0. 0. 0.]\n",
      " [1. 1. 1. ... 0. 0. 0.]]\n"
     ]
    }
   ],
   "source": [
    "print(binary_mat)"
   ]
  },
  {
   "cell_type": "markdown",
   "id": "ce0b3e09",
   "metadata": {},
   "source": [
    "<h3>Matrice de precision.</h3>"
   ]
  },
  {
   "cell_type": "code",
   "execution_count": 25,
   "id": "9af4572a",
   "metadata": {},
   "outputs": [],
   "source": [
    "precision_mat = utility_functions.get_mat_precision(binary_mat)"
   ]
  },
  {
   "cell_type": "code",
   "execution_count": 26,
   "id": "81791022",
   "metadata": {
    "scrolled": true
   },
   "outputs": [
    {
     "name": "stdout",
     "output_type": "stream",
     "text": [
      "(800, 200)\n"
     ]
    }
   ],
   "source": [
    "print(precision_mat.shape)"
   ]
  },
  {
   "cell_type": "code",
   "execution_count": 27,
   "id": "f805e16b",
   "metadata": {},
   "outputs": [
    {
     "name": "stdout",
     "output_type": "stream",
     "text": [
      "[[1.         1.         1.         ... 0.1010101  0.10050251 0.1       ]\n",
      " [1.         1.         1.         ... 0.1010101  0.10050251 0.1       ]\n",
      " [1.         1.         1.         ... 0.1010101  0.10050251 0.1       ]\n",
      " ...\n",
      " [1.         1.         1.         ... 0.1010101  0.10050251 0.1       ]\n",
      " [1.         1.         1.         ... 0.1010101  0.10050251 0.1       ]\n",
      " [1.         1.         1.         ... 0.1010101  0.10050251 0.1       ]]\n"
     ]
    }
   ],
   "source": [
    "print(precision_mat)"
   ]
  },
  {
   "cell_type": "markdown",
   "id": "fcf47f79",
   "metadata": {},
   "source": [
    "<h3>Matrice de precision moyenne.</h3>"
   ]
  },
  {
   "cell_type": "code",
   "execution_count": 28,
   "id": "42db8d30",
   "metadata": {},
   "outputs": [],
   "source": [
    "mean_precision_mat = utility_functions.get_mean_precision_mat(binary_mat, precision_mat)"
   ]
  },
  {
   "cell_type": "code",
   "execution_count": 29,
   "id": "afb8da3e",
   "metadata": {},
   "outputs": [
    {
     "name": "stdout",
     "output_type": "stream",
     "text": [
      "(800,)\n"
     ]
    }
   ],
   "source": [
    "print(mean_precision_mat.shape)"
   ]
  },
  {
   "cell_type": "code",
   "execution_count": 30,
   "id": "f92967ad",
   "metadata": {},
   "outputs": [
    {
     "name": "stdout",
     "output_type": "stream",
     "text": [
      "[0.91529887 0.81021234 0.61907356 0.84028189 0.8591264  0.96431579\n",
      " 0.78661317 0.8906715  0.77837474 0.73368999 0.63414616 0.93716009\n",
      " 0.81889857 0.94831011 0.88443316 0.86177833 0.94937109 0.92619737\n",
      " 0.9550987  0.78050593 0.92100682 0.96161036 0.98227513 0.87722518\n",
      " 0.72987109 0.94360909 0.52946829 0.77802559 0.9731746  0.94665227\n",
      " 0.5470702  0.98703704 0.94622237 0.94564594 0.93915816 0.8608387\n",
      " 0.86890973 0.94875731 0.92992424 0.96778846 0.98970969 0.9783208\n",
      " 0.7780286  0.90788213 0.98653509 0.9577381  0.95626313 0.97153907\n",
      " 0.99069264 0.85371279 0.99097826 0.91926404 0.96872593 0.90806314\n",
      " 0.80407332 0.98916667 0.82317807 0.93683741 0.87198387 0.92364454\n",
      " 0.82164828 0.88685694 0.87153224 0.84561981 0.74624014 0.92637244\n",
      " 0.87240953 0.88252357 0.8764348  0.87565883 0.98690476 0.3706776\n",
      " 0.94378788 0.92022025 0.9042811  0.80823077 0.91311601 0.97262303\n",
      " 0.98021886 0.90023088 0.99166667 0.99511905 0.99545455 0.95362492\n",
      " 0.98846154 0.25675537 1.         0.99761905 0.82893041 0.1688749\n",
      " 0.98221691 1.         0.9622663  0.96987578 1.         1.\n",
      " 1.         1.         0.99248747 0.99248747 0.98666008 1.\n",
      " 0.98754519 1.         0.98690476 0.99511905 0.96565824 0.99347826\n",
      " 1.         1.         1.         0.08593781 1.         0.98453704\n",
      " 0.99347826 0.99248747 1.         1.         1.         1.\n",
      " 0.98846154 1.         0.99511905 0.99097826 1.         1.\n",
      " 0.99761905 0.97664336 1.         0.7086046  1.         1.\n",
      " 0.80207677 0.94351019 1.         0.99761905 0.99761905 0.97673875\n",
      " 0.98225806 0.99511905 1.         0.71842141 0.99248747 1.\n",
      " 0.98031018 0.9852381  0.96875181 0.97749616 0.99097826 0.99511905\n",
      " 0.99761905 1.         0.9428414  0.99761905 0.95831418 0.97749616\n",
      " 1.         0.98871636 1.         1.         0.52505423 0.49774478\n",
      " 0.61424109 0.41343175 0.5838144  0.4708268  0.24706505 0.4404687\n",
      " 0.4210745  0.93242766 0.47042641 0.53780898 0.63060135 0.61776346\n",
      " 0.17842982 0.19513138 0.45975024 0.45628424 0.30512985 0.52736851\n",
      " 0.79370077 0.65593864 0.64259787 0.75751475 0.56721262 0.4144905\n",
      " 0.41212624 0.72179543 0.87160296 0.67738088 0.55954606 0.77436223\n",
      " 0.80693853 0.71695078 0.72180366 0.85279686 0.79308576 0.84790998\n",
      " 0.58661811 0.73706092 0.23947932 0.36030532 0.39190644 0.77733571\n",
      " 0.81272174 0.2474002  0.54303726 0.37265197 0.6833846  0.46871005\n",
      " 0.52031623 0.42791654 0.6239638  0.72666091 0.48658886 0.28019274\n",
      " 0.34025533 0.32454096 0.51603874 0.59159195 0.43692316 0.20414709\n",
      " 0.12058251 0.41591445 0.41122437 0.67255751 0.26510896 0.43599734\n",
      " 0.41716954 0.47736009 0.4846413  0.44848815 0.70818782 0.63186786\n",
      " 0.46734453 0.4542833  0.62401102 0.6704913  0.23823069 0.82429393\n",
      " 0.76568673 0.64565267 0.87819273 0.74014283 0.46268465 0.73196529\n",
      " 0.7043472  0.67289031 0.83323773 0.79995267 0.80199426 0.75648166\n",
      " 0.45535456 0.90378005 0.90623154 0.7943618  0.77183064 0.78916711\n",
      " 0.43364677 0.38272804 0.57517961 0.51447082 0.32799948 0.8167852\n",
      " 0.56931152 0.71468914 0.59629948 0.3009745  0.42421539 0.64591364\n",
      " 0.66774826 0.76442783 0.76056213 0.86870603 0.6529886  0.76098575\n",
      " 0.60030228 0.68483643 0.79424456 0.64392524 0.80509944 0.6463165\n",
      " 0.3618804  0.78491559 0.43089508 0.64018761 0.92186423 0.69891005\n",
      " 0.75334669 0.60618987 0.0972578  0.75924577 0.61254273 0.63892619\n",
      " 0.92176235 0.83477491 0.82830376 0.42778437 0.9332864  0.75682037\n",
      " 0.77988202 0.9302855  0.78402391 0.76495721 0.34826213 0.65983522\n",
      " 0.64197313 0.72997292 0.70767177 0.74724005 0.52162763 0.78111328\n",
      " 0.71263487 0.75017215 0.72755173 0.87269035 0.62776686 0.81122168\n",
      " 0.67636503 0.57051841 0.84602085 0.3202459  0.91489434 0.49368118\n",
      " 0.20787726 0.75780831 0.71246734 0.40090478 0.79689251 0.67725194\n",
      " 0.80672499 0.58086234 0.58684082 0.61353206 0.61874602 0.65655945\n",
      " 0.52512133 0.66556503 0.8210707  0.35268739 0.81451019 0.20183349\n",
      " 0.63689474 0.51448111 0.386743   0.22907032 0.58840288 0.15810235\n",
      " 0.34250452 0.59955859 0.88410736 0.43729318 0.77710304 0.49927124\n",
      " 0.63514737 0.8410898  0.39358423 0.37348354 0.20784398 0.77305274\n",
      " 0.72909417 0.41396141 0.22790662 0.77539043 0.55509651 0.2957816\n",
      " 0.57951345 0.32362516 0.78431523 0.56960866 0.86597921 0.63427309\n",
      " 0.65195028 0.77319619 0.714368   0.47609641 0.4732452  0.69030177\n",
      " 0.37168001 0.45585578 0.70304554 0.5773867  0.61350667 0.83421017\n",
      " 0.48354985 0.58182747 0.69361542 0.73059583 0.65752476 0.74366402\n",
      " 0.70283164 0.69556986 0.69911528 0.7837593  0.25628789 0.58722\n",
      " 0.5601474  0.56981444 0.31286592 0.49122384 0.54370799 0.55803911\n",
      " 0.47831313 0.85080914 0.69058964 0.35596595 0.08653809 0.37488985\n",
      " 0.89554535 0.73155387 0.7514484  0.29819128 0.78284055 0.70422512\n",
      " 0.71920439 0.8433925  0.30401141 0.73002347 0.46863439 0.7447335\n",
      " 0.1813596  0.5917271  0.5645007  0.74356658 0.64191726 0.60792886\n",
      " 0.84284701 0.78102268 0.18243145 0.41196573 0.56897713 0.68860376\n",
      " 0.71453817 0.20211072 0.71583386 0.80279555 0.92492879 0.49111083\n",
      " 0.38512873 0.2316545  0.77408616 0.62853161 0.8994888  0.19086475\n",
      " 0.84951477 0.83779534 0.77666308 0.81351197 0.63715534 0.5703616\n",
      " 0.86406085 0.33097891 0.78987261 0.46350676 0.63732908 0.55883446\n",
      " 0.18971158 0.35455548 0.73610095 0.52863442 0.30622576 0.4392195\n",
      " 0.70022769 0.79003479 0.37325633 0.65939554 0.644742   0.68517158\n",
      " 0.60572235 0.37783433 0.25853996 0.57077933 0.34125787 0.41866642\n",
      " 0.35541716 0.18765245 0.49048632 0.43724513 0.55238161 0.69296738\n",
      " 1.         0.97189024 0.99545455 0.81479741 0.82437261 0.6945932\n",
      " 0.99       0.97270786 0.98371636 0.98703704 0.95904841 0.78062735\n",
      " 0.82974676 0.93962946 0.94474153 1.         0.99761905 1.\n",
      " 0.97542398 0.93017094 0.99       1.         0.95980423 0.9779974\n",
      " 0.36897441 0.99511905 0.45778515 0.73289045 1.         0.99097826\n",
      " 1.         0.99       0.96746627 0.99761905 0.97118421 1.\n",
      " 0.96351915 0.99166667 0.89715082 0.98571429 0.97492785 1.\n",
      " 0.70175751 0.72716838 0.95883333 0.39273782 0.99347826 1.\n",
      " 0.51001757 0.9761865  0.63553991 1.         0.81053874 0.97921711\n",
      " 0.76138495 0.57317803 0.64042365 0.98806106 0.97428019 0.8246596\n",
      " 0.95373486 0.84075625 0.99761905 1.         1.         1.\n",
      " 0.9840285  0.99097826 0.98058271 0.99761905 0.694066   0.99347826\n",
      " 0.9726462  0.96447497 0.98453704 0.97972085 0.97497494 0.98333333\n",
      " 0.45963882 0.72090213 0.42176314 0.48414805 0.65869613 0.42844995\n",
      " 0.68808023 0.5000006  0.35411233 0.94485083 0.63350507 0.34743186\n",
      " 0.38134166 0.62139292 0.81834863 0.42936036 0.27663596 0.0833329\n",
      " 0.38989077 0.45601267 0.76650841 0.49099196 0.69626611 0.14133017\n",
      " 0.85772322 0.52567721 0.59112219 0.62636558 0.5543874  0.69427489\n",
      " 0.88900068 0.67816896 0.51005134 0.59002148 0.36493683 0.58002461\n",
      " 0.08210617 0.91277998 0.45393262 0.13991308 0.679465   0.63602848\n",
      " 0.56168462 0.80584038 0.58473631 0.77634214 0.88735177 0.19700091\n",
      " 0.52878126 0.88791702 0.63806092 0.78166925 0.8551424  0.83974141\n",
      " 0.63179132 0.64297419 0.77401796 0.42663972 0.9225559  0.59418654\n",
      " 0.93495208 0.9040746  0.78281882 0.7453365  0.36906994 0.31239471\n",
      " 0.78545849 0.78214989 0.79316153 0.42131814 0.49778577 0.89372429\n",
      " 0.25712414 0.70533574 0.85287376 0.79065309 0.93626955 0.49630468\n",
      " 0.55712631 0.90588894 0.41142406 0.7363557  0.66901149 0.87327004\n",
      " 0.81444318 0.8841822  0.42871995 0.7206981  0.71634583 0.82994542\n",
      " 0.72782917 0.3193185  0.91023163 0.89612637 0.51749934 0.69407124\n",
      " 0.82730601 0.66225827 0.71355457 0.45929341 0.7801369  0.79979662\n",
      " 0.89486074 0.35348841 0.77234406 0.87512508 0.74396843 0.62750521\n",
      " 0.47569536 0.51784294 0.43958156 0.86652962 0.45099152 0.78775926\n",
      " 0.30687904 0.82797321 0.92417793 0.79866244 0.55501208 0.72545458\n",
      " 0.88559933 0.70455941 0.69914422 0.31461777 0.64785147 0.84445363\n",
      " 0.78841462 0.76097753 0.91727357 0.62007349 0.60023446 0.49116224\n",
      " 0.90345734 0.62540159 0.85007052 0.83807559 0.66563098 0.88264695\n",
      " 0.85232654 0.25950483 0.81942487 0.78489003 0.81267147 0.63715569\n",
      " 0.62162939 0.8649208  0.78937255 0.93640216 0.9298403  0.88089816\n",
      " 0.92874053 0.47947365 0.93592502 0.39836865 0.87516992 0.59604006\n",
      " 0.90828501 0.93687461 0.56759541 0.91873716 0.74718675 0.72628006\n",
      " 0.87988029 0.77647789 0.78697117 0.60485523 0.69525516 0.87093936\n",
      " 0.11953147 0.54831885 0.8850309  0.0683743  0.83702094 0.8628175\n",
      " 0.900481   0.8557694  0.73878166 0.7293382  0.903765   0.86439222\n",
      " 0.90043137 0.61826591 0.8377437  0.73881818 0.76194897 0.74754626\n",
      " 0.82203989 0.81744415 0.76177741 0.83291639 0.90556704 0.48756051\n",
      " 0.71490126 0.68777833 0.79545224 0.8504981  0.91653679 0.8754873\n",
      " 0.87780303 0.18936296 0.92375679 0.92375525 0.84963459 0.86257002\n",
      " 0.89826833 0.81123776 0.86827918 0.8505094  0.86474083 0.75597831\n",
      " 0.89354812 0.97231235 0.81707634 0.94229747 0.85806728 0.75538889\n",
      " 0.66832543 0.71043548 0.85273194 0.82787298 0.81976961 0.91967257\n",
      " 0.8539014  0.91232812 0.72977876 0.83773444 0.75560113 0.84010349\n",
      " 0.85184879 0.81340027 0.72811773 0.79110651 0.56551216 0.91706332\n",
      " 0.3871016  0.9030023  0.93946839 0.90141525 0.70601023 0.91747388\n",
      " 0.94290337 0.80736515]\n"
     ]
    }
   ],
   "source": [
    "print(mean_precision_mat)"
   ]
  },
  {
   "cell_type": "markdown",
   "id": "6e795f05",
   "metadata": {},
   "source": [
    "<h3>Precision moyenne finale.</h3>"
   ]
  },
  {
   "cell_type": "code",
   "execution_count": 31,
   "id": "7fe5052c",
   "metadata": {},
   "outputs": [],
   "source": [
    "finale_mean_precision = np.mean(mean_precision_mat) * 100"
   ]
  },
  {
   "cell_type": "code",
   "execution_count": 32,
   "id": "46eb6863",
   "metadata": {},
   "outputs": [
    {
     "name": "stdout",
     "output_type": "stream",
     "text": [
      "71.95243185186791\n"
     ]
    }
   ],
   "source": [
    "print(finale_mean_precision)"
   ]
  }
 ],
 "metadata": {
  "kernelspec": {
   "display_name": "Python 3 (ipykernel)",
   "language": "python",
   "name": "python3"
  },
  "language_info": {
   "codemirror_mode": {
    "name": "ipython",
    "version": 3
   },
   "file_extension": ".py",
   "mimetype": "text/x-python",
   "name": "python",
   "nbconvert_exporter": "python",
   "pygments_lexer": "ipython3",
   "version": "3.9.12"
  }
 },
 "nbformat": 4,
 "nbformat_minor": 5
}
